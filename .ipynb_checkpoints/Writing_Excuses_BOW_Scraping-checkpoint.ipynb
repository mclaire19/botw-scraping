{
 "cells": [
  {
   "cell_type": "code",
   "execution_count": 1,
   "metadata": {},
   "outputs": [],
   "source": [
    "import requests\n",
    "import pandas as pd\n",
    "from bs4 import BeautifulSoup\n",
    "import re\n",
    "import csv"
   ]
  },
  {
   "cell_type": "markdown",
   "metadata": {},
   "source": [
    "\"Book of the Week\" was implemented starting in season 7. Seasons 7-12 have their own pages on the sidebar, reachable at links like https://writingexcuses.com/category/season/season-07/. This scraping will focus on these seasons."
   ]
  },
  {
   "cell_type": "code",
   "execution_count": 2,
   "metadata": {},
   "outputs": [],
   "source": [
    "#base url\n",
    "base = 'https://writingexcuses.com/category/season/season-'\n",
    "\n",
    "#adding seasons\n",
    "seasons = ['07/', '08/', '09/', '10/', '11/', '12/']\n",
    "\n",
    "#append season numbers for ultimate list of desired URLs\n",
    "urls = []\n",
    "for season in seasons:\n",
    "    urls.append(base + season)"
   ]
  },
  {
   "cell_type": "code",
   "execution_count": 3,
   "metadata": {},
   "outputs": [],
   "source": [
    "#loop through list of URLs and parse for the audiobook image indicating a book of the week\n",
    "bow_list = []\n",
    "for url in urls:\n",
    "    response = requests.get(url)\n",
    "    soup = BeautifulSoup(response.text, \"html.parser\")\n",
    "    bow_list.append(soup.find_all(\"div\", class_=\"wx_audiobook\"))"
   ]
  },
  {
   "cell_type": "code",
   "execution_count": 4,
   "metadata": {},
   "outputs": [
    {
     "data": {
      "text/plain": [
       "[<div class=\"wx_audiobook\"><p><em><a href=\"http://www.audible.com/pd/ref=sr_1_1?asin=B004XMIMHE&amp;qid=1325467550&amp;sr=1-1\">Hard Magic</a>,</em> by Larry Correia, narrated by Bronson Pinchot</p>\n",
       " </div>,\n",
       " <div class=\"wx_audiobook\"><p><em><a href=\"http://www.audible.com/pd/ref=sr_1_1?asin=B0036N2C7M&amp;qid=1326085485&amp;sr=1-1\">A Fire Upon the Deep</a>,</em> by Vernor Vinge, narrated by Peter Larkin</p>\n",
       " </div>,\n",
       " <div class=\"wx_audiobook\"><p><em><a href=\"http://www.audible.com/pd/ref=sr_1_1?asin=B002V8N9VG&amp;qid=1326674233&amp;sr=1-1\">Speaker for the Dead</a></em>, by Orson Scott Card, narrated by Stefan Rudniki. It’s a fantastic example of well-constructed flora and fauna, and it’s also a good example of how to make a sequel almost completely unlike the book that came before it.</p>\n",
       " </div>,\n",
       " <div class=\"wx_audiobook\"><p><em><a href=\"http://www.audible.com/pd/ref=sr_1_11?asin=B002UZL5SY&amp;qid=1327276360&amp;sr=1-11\">Farenheit 451</a>,</em> by Ray Bradbury, narrated by the author</p>\n",
       " </div>,\n",
       " <div class=\"wx_audiobook\"><p><em><a href=\"http://www.audible.com/pd/ref=sr_1_1?asin=B005SFVUWY&amp;qid=1327880299&amp;sr=1-1\">Terrorists in Love: The Real Stories of Islamic Radicals</a></em>, by Ken Ballen, narrated by Peter Ganim</p>\n",
       " </div>]"
      ]
     },
     "execution_count": 4,
     "metadata": {},
     "output_type": "execute_result"
    }
   ],
   "source": [
    "#get idea of list structure\n",
    "bow_list[0][0:5]"
   ]
  },
  {
   "cell_type": "code",
   "execution_count": 5,
   "metadata": {},
   "outputs": [
    {
     "data": {
      "text/plain": [
       "'Hard Magic'"
      ]
     },
     "execution_count": 5,
     "metadata": {},
     "output_type": "execute_result"
    }
   ],
   "source": [
    "#find the text under the 'a' tag in the first element of the soup\n",
    "bow_list[0][0].find('a').text"
   ]
  },
  {
   "cell_type": "code",
   "execution_count": 6,
   "metadata": {},
   "outputs": [],
   "source": [
    "#create empty list for book titles\n",
    "books = []\n",
    "\n",
    "#iterate through nested list\n",
    "#append book title depending on the tag it falls under\n",
    "for bow_season in bow_list:\n",
    "    for book_element in bow_season:\n",
    "        if book_element.find('em') != None:\n",
    "            books.append(book_element.find('em').text)\n",
    "        elif book_element.find('a') != None:\n",
    "            books.append(book_element.find('a').text)\n",
    "        else:\n",
    "            books.append(book_element.find('p').text)"
   ]
  },
  {
   "cell_type": "code",
   "execution_count": 7,
   "metadata": {},
   "outputs": [
    {
     "data": {
      "text/plain": [
       "['Hard Magic,',\n",
       " 'A Fire Upon the Deep,',\n",
       " 'Speaker for the Dead',\n",
       " 'Farenheit 451,',\n",
       " 'Terrorists in Love: The Real Stories of Islamic Radicals']"
      ]
     },
     "execution_count": 7,
     "metadata": {},
     "output_type": "execute_result"
    }
   ],
   "source": [
    "#check structure of book list\n",
    "books[0:5]"
   ]
  },
  {
   "cell_type": "code",
   "execution_count": 9,
   "metadata": {},
   "outputs": [],
   "source": [
    "#create empty list for all text associated with the audiobook div\n",
    "#iterate through nested list using list comprehension\n",
    "\n",
    "alltext = [bow_element.find('p').text for bow_season in bow_list for bow_element in bow_season]"
   ]
  },
  {
   "cell_type": "code",
   "execution_count": 10,
   "metadata": {},
   "outputs": [
    {
     "data": {
      "text/plain": [
       "['Hard Magic, by Larry Correia, narrated by Bronson Pinchot',\n",
       " 'A Fire Upon the Deep, by Vernor Vinge, narrated by Peter Larkin',\n",
       " 'Speaker for the Dead, by Orson Scott Card, narrated by Stefan Rudniki. It’s a fantastic example of well-constructed flora and fauna, and it’s also a good example of how to make a sequel almost completely unlike the book that came before it.',\n",
       " 'Farenheit 451, by Ray Bradbury, narrated by the author',\n",
       " 'Terrorists in Love: The Real Stories of Islamic Radicals, by Ken Ballen, narrated by Peter Ganim']"
      ]
     },
     "execution_count": 10,
     "metadata": {},
     "output_type": "execute_result"
    }
   ],
   "source": [
    "#check alltext structure\n",
    "alltext[0:5]"
   ]
  },
  {
   "cell_type": "code",
   "execution_count": 11,
   "metadata": {},
   "outputs": [],
   "source": [
    "#create empty list for authors names to be pulled from alltext list\n",
    "authors = []\n",
    "\n",
    "#iterate through alltext list and use regular expressions to try to eliminate unneccesary text\n",
    "for index, line in enumerate(alltext):\n",
    "    line = line.replace(books[index], '')\n",
    "    if re.search(\"by (.*), narrated by\", line):\n",
    "        authors.append(re.search(\"by (.*), narrated by\", line).group(1))\n",
    "    else:\n",
    "        authors.append(line)"
   ]
  },
  {
   "cell_type": "code",
   "execution_count": 12,
   "metadata": {
    "scrolled": true
   },
   "outputs": [
    {
     "data": {
      "text/plain": [
       "True"
      ]
     },
     "execution_count": 12,
     "metadata": {},
     "output_type": "execute_result"
    }
   ],
   "source": [
    "#check that lengths of lists are the same\n",
    "len(authors) == len(books)"
   ]
  },
  {
   "cell_type": "code",
   "execution_count": 13,
   "metadata": {},
   "outputs": [],
   "source": [
    "#eliminate commas from the end of some book titles\n",
    "books = [book[:-1] if book.endswith(',') else book for book in books]"
   ]
  },
  {
   "cell_type": "code",
   "execution_count": 14,
   "metadata": {},
   "outputs": [
    {
     "data": {
      "text/plain": [
       "['Hard Magic',\n",
       " 'A Fire Upon the Deep',\n",
       " 'Speaker for the Dead',\n",
       " 'Farenheit 451',\n",
       " 'Terrorists in Love: The Real Stories of Islamic Radicals']"
      ]
     },
     "execution_count": 14,
     "metadata": {},
     "output_type": "execute_result"
    }
   ],
   "source": [
    "#check it worked\n",
    "books[0:5]"
   ]
  },
  {
   "cell_type": "code",
   "execution_count": 15,
   "metadata": {},
   "outputs": [],
   "source": [
    "clean_auth = []\n",
    "\n",
    "#eliminate commas, spaces, and 'by' from beginning of some author names\n",
    "for author in authors:\n",
    "    if 'by ' in author:\n",
    "        clean_auth.append(author[author.find('by ')+3:])\n",
    "    else:\n",
    "        clean_auth.append(author)"
   ]
  },
  {
   "cell_type": "code",
   "execution_count": 16,
   "metadata": {},
   "outputs": [
    {
     "data": {
      "text/plain": [
       "['Larry Correia',\n",
       " 'Vernor Vinge',\n",
       " 'Orson Scott Card',\n",
       " 'Ray Bradbury',\n",
       " 'Ken Ballen']"
      ]
     },
     "execution_count": 16,
     "metadata": {},
     "output_type": "execute_result"
    }
   ],
   "source": [
    "#check it worked\n",
    "clean_auth[0:5]"
   ]
  },
  {
   "cell_type": "code",
   "execution_count": 17,
   "metadata": {},
   "outputs": [
    {
     "data": {
      "text/html": [
       "<div>\n",
       "<style scoped>\n",
       "    .dataframe tbody tr th:only-of-type {\n",
       "        vertical-align: middle;\n",
       "    }\n",
       "\n",
       "    .dataframe tbody tr th {\n",
       "        vertical-align: top;\n",
       "    }\n",
       "\n",
       "    .dataframe thead th {\n",
       "        text-align: right;\n",
       "    }\n",
       "</style>\n",
       "<table border=\"1\" class=\"dataframe\">\n",
       "  <thead>\n",
       "    <tr style=\"text-align: right;\">\n",
       "      <th></th>\n",
       "      <th>Title</th>\n",
       "      <th>Author/Info</th>\n",
       "    </tr>\n",
       "  </thead>\n",
       "  <tbody>\n",
       "    <tr>\n",
       "      <th>0</th>\n",
       "      <td>Hard Magic</td>\n",
       "      <td>Larry Correia</td>\n",
       "    </tr>\n",
       "    <tr>\n",
       "      <th>1</th>\n",
       "      <td>A Fire Upon the Deep</td>\n",
       "      <td>Vernor Vinge</td>\n",
       "    </tr>\n",
       "    <tr>\n",
       "      <th>2</th>\n",
       "      <td>Speaker for the Dead</td>\n",
       "      <td>Orson Scott Card</td>\n",
       "    </tr>\n",
       "    <tr>\n",
       "      <th>3</th>\n",
       "      <td>Farenheit 451</td>\n",
       "      <td>Ray Bradbury</td>\n",
       "    </tr>\n",
       "    <tr>\n",
       "      <th>4</th>\n",
       "      <td>Terrorists in Love: The Real Stories of Islami...</td>\n",
       "      <td>Ken Ballen</td>\n",
       "    </tr>\n",
       "    <tr>\n",
       "      <th>...</th>\n",
       "      <td>...</td>\n",
       "      <td>...</td>\n",
       "    </tr>\n",
       "    <tr>\n",
       "      <th>308</th>\n",
       "      <td>The Butcher of Khardov</td>\n",
       "      <td>Dan Wells</td>\n",
       "    </tr>\n",
       "    <tr>\n",
       "      <th>309</th>\n",
       "      <td>Oathbringer</td>\n",
       "      <td>Brandon Sanderson</td>\n",
       "    </tr>\n",
       "    <tr>\n",
       "      <th>310</th>\n",
       "      <td>Always Coming Home</td>\n",
       "      <td>Ursula Le Guin</td>\n",
       "    </tr>\n",
       "    <tr>\n",
       "      <th>311</th>\n",
       "      <td>The Diabolic</td>\n",
       "      <td>SJ Kincaid</td>\n",
       "    </tr>\n",
       "    <tr>\n",
       "      <th>312</th>\n",
       "      <td>Ladycastle,</td>\n",
       "      <td>Delilah Dawson, Illustrated by Ashley A. Woods...</td>\n",
       "    </tr>\n",
       "  </tbody>\n",
       "</table>\n",
       "<p>313 rows × 2 columns</p>\n",
       "</div>"
      ],
      "text/plain": [
       "                                                 Title  \\\n",
       "0                                           Hard Magic   \n",
       "1                                 A Fire Upon the Deep   \n",
       "2                                 Speaker for the Dead   \n",
       "3                                        Farenheit 451   \n",
       "4    Terrorists in Love: The Real Stories of Islami...   \n",
       "..                                                 ...   \n",
       "308                             The Butcher of Khardov   \n",
       "309                                        Oathbringer   \n",
       "310                                 Always Coming Home   \n",
       "311                                       The Diabolic   \n",
       "312                                       Ladycastle,    \n",
       "\n",
       "                                           Author/Info  \n",
       "0                                        Larry Correia  \n",
       "1                                         Vernor Vinge  \n",
       "2                                     Orson Scott Card  \n",
       "3                                         Ray Bradbury  \n",
       "4                                           Ken Ballen  \n",
       "..                                                 ...  \n",
       "308                                          Dan Wells  \n",
       "309                                  Brandon Sanderson  \n",
       "310                                     Ursula Le Guin  \n",
       "311                                         SJ Kincaid  \n",
       "312  Delilah Dawson, Illustrated by Ashley A. Woods...  \n",
       "\n",
       "[313 rows x 2 columns]"
      ]
     },
     "execution_count": 17,
     "metadata": {},
     "output_type": "execute_result"
    }
   ],
   "source": [
    "finaldf = pd.DataFrame(list(zip(books, clean_auth)), columns =['Title', 'Author/Info'])\n",
    "finaldf"
   ]
  },
  {
   "cell_type": "code",
   "execution_count": 18,
   "metadata": {},
   "outputs": [],
   "source": [
    "#convert the two lists to a dictionary where the book titles are the keys and author text are the values\n",
    "final = {books[i]: clean_auth[i] for i in range(len(books))} "
   ]
  },
  {
   "cell_type": "code",
   "execution_count": 19,
   "metadata": {},
   "outputs": [],
   "source": [
    "#write to CSV\n",
    "with open('BOWfromdict.csv', 'w', newline=\"\") as csv_file:  \n",
    "    writer = csv.writer(csv_file)\n",
    "    for key, value in final.items():\n",
    "       writer.writerow([key, value])"
   ]
  },
  {
   "cell_type": "code",
   "execution_count": 20,
   "metadata": {},
   "outputs": [],
   "source": [
    "#or, write to CSV from the dataframe\n",
    "finaldf.to_csv('BOWfromcsv.csv')"
   ]
  }
 ],
 "metadata": {
  "kernelspec": {
   "display_name": "Python 3",
   "language": "python",
   "name": "python3"
  },
  "language_info": {
   "codemirror_mode": {
    "name": "ipython",
    "version": 3
   },
   "file_extension": ".py",
   "mimetype": "text/x-python",
   "name": "python",
   "nbconvert_exporter": "python",
   "pygments_lexer": "ipython3",
   "version": "3.7.6"
  }
 },
 "nbformat": 4,
 "nbformat_minor": 2
}
