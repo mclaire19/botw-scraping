{
 "cells": [
  {
   "cell_type": "code",
   "execution_count": 1,
   "metadata": {},
   "outputs": [],
   "source": [
    "import requests\n",
    "import pandas as pd\n",
    "from bs4 import BeautifulSoup\n",
    "import re\n",
    "import csv"
   ]
  },
  {
   "cell_type": "markdown",
   "metadata": {},
   "source": [
    "\"Book of the Week\" was implemented starting in season 7. Seasons 7-12 have their own pages on the sidebar, reachable at links like https://writingexcuses.com/category/season/season-07/. This scraping will focus on these seasons."
   ]
  },
  {
   "cell_type": "code",
   "execution_count": 2,
   "metadata": {},
   "outputs": [],
   "source": [
    "#base url\n",
    "base = 'https://writingexcuses.com/category/season/season-'\n",
    "\n",
    "#adding seasons\n",
    "seasons = ['07/', '08/', '09/', '10/', '11/', '12/']\n",
    "\n",
    "#append season numbers for ultimate list of desired URLs\n",
    "urls = []\n",
    "for season in seasons:\n",
    "    urls.append(base + season)"
   ]
  },
  {
   "cell_type": "code",
   "execution_count": 3,
   "metadata": {},
   "outputs": [],
   "source": [
    "#loop through list of URLs and parse for the audiobook image indicating a book of the week\n",
    "bow_list = []\n",
    "for url in urls:\n",
    "    response = requests.get(url)\n",
    "    soup = BeautifulSoup(response.text, \"html.parser\")\n",
    "    bow_list.append(soup.find_all(\"div\", class_=\"wx_audiobook\"))"
   ]
  },
  {
   "cell_type": "code",
   "execution_count": 4,
   "metadata": {},
   "outputs": [
    {
     "data": {
      "text/plain": [
       "[<div class=\"wx_audiobook\"><p><em><a href=\"http://www.audible.com/pd/ref=sr_1_1?asin=B004XMIMHE&amp;qid=1325467550&amp;sr=1-1\">Hard Magic</a>,</em> by Larry Correia, narrated by Bronson Pinchot</p>\n",
       " </div>,\n",
       " <div class=\"wx_audiobook\"><p><em><a href=\"http://www.audible.com/pd/ref=sr_1_1?asin=B0036N2C7M&amp;qid=1326085485&amp;sr=1-1\">A Fire Upon the Deep</a>,</em> by Vernor Vinge, narrated by Peter Larkin</p>\n",
       " </div>,\n",
       " <div class=\"wx_audiobook\"><p><em><a href=\"http://www.audible.com/pd/ref=sr_1_1?asin=B002V8N9VG&amp;qid=1326674233&amp;sr=1-1\">Speaker for the Dead</a></em>, by Orson Scott Card, narrated by Stefan Rudniki. It’s a fantastic example of well-constructed flora and fauna, and it’s also a good example of how to make a sequel almost completely unlike the book that came before it.</p>\n",
       " </div>,\n",
       " <div class=\"wx_audiobook\"><p><em><a href=\"http://www.audible.com/pd/ref=sr_1_11?asin=B002UZL5SY&amp;qid=1327276360&amp;sr=1-11\">Farenheit 451</a>,</em> by Ray Bradbury, narrated by the author</p>\n",
       " </div>,\n",
       " <div class=\"wx_audiobook\"><p><em><a href=\"http://www.audible.com/pd/ref=sr_1_1?asin=B005SFVUWY&amp;qid=1327880299&amp;sr=1-1\">Terrorists in Love: The Real Stories of Islamic Radicals</a></em>, by Ken Ballen, narrated by Peter Ganim</p>\n",
       " </div>]"
      ]
     },
     "execution_count": 4,
     "metadata": {},
     "output_type": "execute_result"
    }
   ],
   "source": [
    "#get idea of list structure\n",
    "bow_list[0][0:5]"
   ]
  },
  {
   "cell_type": "code",
   "execution_count": 5,
   "metadata": {},
   "outputs": [
    {
     "data": {
      "text/plain": [
       "'Hard Magic'"
      ]
     },
     "execution_count": 5,
     "metadata": {},
     "output_type": "execute_result"
    }
   ],
   "source": [
    "#find the text under the 'a' tag in the first element of the soup\n",
    "bow_list[0][0].find('a').text"
   ]
  },
  {
   "cell_type": "code",
   "execution_count": 6,
   "metadata": {},
   "outputs": [],
   "source": [
    "#create empty list for book titles\n",
    "books = []\n",
    "\n",
    "#iterate through nested list\n",
    "#append book title depending on the tag it falls under\n",
    "for bow_season in bow_list:\n",
    "    for book_element in bow_season:\n",
    "        if book_element.find('em') != None:\n",
    "            books.append(book_element.find('em').text)\n",
    "        elif book_element.find('a') != None:\n",
    "            books.append(book_element.find('a').text)\n",
    "        else:\n",
    "            books.append(book_element.find('p').text)"
   ]
  },
  {
   "cell_type": "code",
   "execution_count": 7,
   "metadata": {},
   "outputs": [
    {
     "data": {
      "text/plain": [
       "['Hard Magic,',\n",
       " 'A Fire Upon the Deep,',\n",
       " 'Speaker for the Dead',\n",
       " 'Farenheit 451,',\n",
       " 'Terrorists in Love: The Real Stories of Islamic Radicals']"
      ]
     },
     "execution_count": 7,
     "metadata": {},
     "output_type": "execute_result"
    }
   ],
   "source": [
    "#check structure of book list\n",
    "books[0:5]"
   ]
  },
  {
   "cell_type": "code",
   "execution_count": 8,
   "metadata": {},
   "outputs": [
    {
     "data": {
      "text/plain": [
       "[[<div class=\"wx_audiobook\"><p><em><a href=\"http://www.audible.com/pd/ref=sr_1_1?asin=B004XMIMHE&amp;qid=1325467550&amp;sr=1-1\">Hard Magic</a>,</em> by Larry Correia, narrated by Bronson Pinchot</p>\n",
       "  </div>,\n",
       "  <div class=\"wx_audiobook\"><p><em><a href=\"http://www.audible.com/pd/ref=sr_1_1?asin=B0036N2C7M&amp;qid=1326085485&amp;sr=1-1\">A Fire Upon the Deep</a>,</em> by Vernor Vinge, narrated by Peter Larkin</p>\n",
       "  </div>,\n",
       "  <div class=\"wx_audiobook\"><p><em><a href=\"http://www.audible.com/pd/ref=sr_1_1?asin=B002V8N9VG&amp;qid=1326674233&amp;sr=1-1\">Speaker for the Dead</a></em>, by Orson Scott Card, narrated by Stefan Rudniki. It’s a fantastic example of well-constructed flora and fauna, and it’s also a good example of how to make a sequel almost completely unlike the book that came before it.</p>\n",
       "  </div>,\n",
       "  <div class=\"wx_audiobook\"><p><em><a href=\"http://www.audible.com/pd/ref=sr_1_11?asin=B002UZL5SY&amp;qid=1327276360&amp;sr=1-11\">Farenheit 451</a>,</em> by Ray Bradbury, narrated by the author</p>\n",
       "  </div>,\n",
       "  <div class=\"wx_audiobook\"><p><em><a href=\"http://www.audible.com/pd/ref=sr_1_1?asin=B005SFVUWY&amp;qid=1327880299&amp;sr=1-1\">Terrorists in Love: The Real Stories of Islamic Radicals</a></em>, by Ken Ballen, narrated by Peter Ganim</p>\n",
       "  </div>,\n",
       "  <div class=\"wx_audiobook\"><p>Our stuff!<strong> </strong><em><a href=\"http://www.audible.com/pd/ref=sr_1_1?asin=B005ZUI3OA&amp;qid=1328499563&amp;sr=1-1\">Alloy of Law</a></em> by Brandon Sanderson, <em><a href=\"http://www.audible.com/pd/ref=sr_1_1?asin=B003Y4ZZSQ&amp;qid=1328499586&amp;sr=1-1\">Shades of Milk and Honey</a></em> by Mary Robinette Kowal, (and lots of things <a href=\"http://www.audible.com/search/ref=pd_narr_1?searchNarrator=Mary+Robinette+Kowal\">narrated by Mary</a>), and Dan Wells’ <em><a href=\"http://www.audible.com/series/ref=sr_1_1_sa/?asin=B0074EAZ5K\">John Cleaver</a></em> trilogy.</p>\n",
       "  </div>,\n",
       "  <div class=\"wx_audiobook\"><p><em><a href=\"http://www.audible.com/pd/ref=sr_1_1?asin=B002V8KS6A&amp;qid=1329101792&amp;sr=1-1\">His Majesty’s Dragon: Temeraire, Book 1</a></em>, by Naomi Novik, narrated by Simon Vance</p>\n",
       "  </div>,\n",
       "  <div class=\"wx_audiobook\"><p><em><a href=\"http://www.audible.com/pd/ref=sr_1_1?asin=B002V1A2Z4&amp;qid=1329698024&amp;sr=1-1\">The Terror</a>,</em> by Dan Simmons, narrated by Simon Vance</p>\n",
       "  </div>,\n",
       "  <div class=\"wx_audiobook\"><p><em><a href=\"http://www.audible.com/pd/ref=sr_1_1?asin=B005Z3FGO2&amp;qid=1330306048&amp;sr=1-1\">One Salt Sea</a></em> by Seanan McGuire, narrated by Mary Robinette Kowal</p>\n",
       "  </div>,\n",
       "  <div class=\"wx_audiobook\"><p><em><a href=\"http://www.audible.com/pd/ref=sr_1_1?asin=B002VACDZ2&amp;qid=1330914784&amp;sr=1-1\">Startide Rising</a>,</em> by David Brin, narrated by George Wilson</p>\n",
       "  </div>,\n",
       "  <div class=\"wx_audiobook\"><p><a href=\"http://www.audible.com/pd/ref=sr_1_1?asin=B002V8L5OE&amp;qid=1331512425&amp;sr=1-1\"><em>Persuasion</em></a>, by Jane Austen. Note that there are lots of available recordings. We recommend something unabridged, like the version linked here.</p>\n",
       "  </div>,\n",
       "  <div class=\"wx_audiobook\"><p><em><a href=\"http://www.audible.com/pd/ref=sr_1_1?asin=B002V1C8F6&amp;qid=1331514117&amp;sr=1-1\">Acacia</a>,</em> by David Anthony Durham, narrated by  Dick Hill</p>\n",
       "  </div>,\n",
       "  <div class=\"wx_audiobook\"><p><em><a href=\"http://www.audible.com/pd/ref=sr_1_1?asin=B002V8KVEO&amp;qid=1331516610&amp;sr=1-1\">Dragonflight</a>,</em> by Anne McCaffrey, narrated by Dick Hill</p>\n",
       "  </div>,\n",
       "  <div class=\"wx_audiobook\"><p><em><a href=\"http://www.audible.com/pd/ref=sr_1_1?asin=B004KO48H8&amp;qid=1333205602&amp;sr=1-1\">Cognitive Behavioral Therapy for Dummies</a>,</em>  by Rob Wilson and Rhena Branch, narrated by Simon Slater</p>\n",
       "  </div>,\n",
       "  <div class=\"wx_audiobook\"><p><em>Glamour in Glass</em>, by Mary Robinette Kowal, releases this week! We’ve put links to it <a href=\"https://writingexcuses.com/bow\">over here</a> on our brand new <a href=\"https://writingexcuses.com/bow\">Book of the Week</a> page!</p>\n",
       "  </div>,\n",
       "  <div class=\"wx_audiobook\"><p><em><a href=\"http://www.audible.com/pd/ref=sr_1_2?asin=B003P6CRB6&amp;qid=1334534888&amp;sr=1-2\">Under Heaven</a>, </em>by Guy Gavriel Kay, narrated by Simon Vance</p>\n",
       "  </div>,\n",
       "  <div class=\"wx_audiobook\"><p><em><a href=\"http://www.audible.com/pd/ref=sr_1_1?asin=B0078SJ8YG&amp;qid=1335154867&amp;sr=1-1\">Spellbound: Book II of the Grimnoir Chronicles</a>,</em> by Larry Corriea, narrated by Bronson Pinchot</p>\n",
       "  </div>,\n",
       "  <div class=\"wx_audiobook\"><p><em><a href=\"http://www.audible.com/pd/ref=sr_1_5?asin=B002VAEN96&amp;qid=1335744853&amp;sr=1-5\">Here, There Be Dragons</a></em>, by James A. Owen, narrated by Stephen Langton</p>\n",
       "  </div>,\n",
       "  <div class=\"wx_audiobook\"><p><em><a href=\"http://www.audible.com/pd/ref=sr_1_1?asin=B006YVPGT4&amp;qid=1336360822&amp;sr=1-1\">Everneath</a>,</em> by Brody Ashton, narrated by Amy Rubinate</p>\n",
       "  </div>,\n",
       "  <div class=\"wx_audiobook\"><p><em><a href=\"http://www.audible.com/pd/ref=sr_1_2?asin=B006CSSFOM&amp;qid=1336968792&amp;sr=1-2\">The Slab</a></em>, by Michael R. Collings, narrated by Andy Bowyer</p>\n",
       "  </div>,\n",
       "  <div class=\"wx_audiobook\"><p><em><a href=\"http://www.audible.com/pd/ref=sr_1_1?asin=B002V5IWF2&amp;qid=1337570345&amp;sr=1-1\">Going Postal</a>,</em> by Terry Pratchett, narrated by Stephen Briggs</p>\n",
       "  </div>,\n",
       "  <div class=\"wx_audiobook\"><p><em><a href=\"http://www.audible.com/pd/ref=sr_1_1?asin=B002V5CSM0&amp;qid=1338160384&amp;sr=1-1\">The Sweetness at the Bottom of the Pie</a></em>, by Alan Bradley</p>\n",
       "  </div>,\n",
       "  <div class=\"wx_audiobook\"><p><em><a href=\"http://www.audible.com/pd/ref=sr_1_1?asin=B002V5BHM2&amp;qid=1338759192&amp;sr=1-1\">The Time Traveler’s Wife</a></em>, by Audrey Niffenegger, narrated by Fred Berman and Phoebe Stole</p>\n",
       "  </div>,\n",
       "  <div class=\"wx_audiobook\"><p><a href=\"http://www.audible.com/pd/ref=sr_1_1?asin=B002V8MUYI&amp;qid=1338764222&amp;sr=1-1\"><em>Stranger in a Strange Land</em> (unabridged)</a>, by Robert A. Heinlein, narrated by Christopher Hurt</p>\n",
       "  </div>,\n",
       "  <div class=\"wx_audiobook\"><p><em>The Great Train Robbery</em>, by Michael Crichton, narrated by Michael Cumpsty</p>\n",
       "  </div>,\n",
       "  <div class=\"wx_audiobook\"><p><em><a href=\"http://www.audible.com/pd/ref=sr_1_1?asin=B007BH41NW&amp;qid=1341957858&amp;sr=1-1\">Partials</a>,</em> by Dan Wells, narrated by Julia Whelan</p>\n",
       "  </div>,\n",
       "  <div class=\"wx_audiobook\"><p><em><a href=\"http://www.audible.com/pd/ref=sr_1_18?asin=B002V57NL6&amp;qid=1341242637&amp;sr=1-18\">Sharpe’s Rifles</a></em>, by Bernard Cornwell, narrated by Frederick Davidson</p>\n",
       "  </div>,\n",
       "  <div class=\"wx_audiobook\"><p><em>The Hollow City</em>, by Dan Wells, which, as of this writing, doesn’t show up on Audible’s site. We counsel patience.</p>\n",
       "  </div>,\n",
       "  <div class=\"wx_audiobook\"><p><em><a href=\"http://www.audible.com/pd/ref=sa_1?asin=B002V8LK0I\">Imager</a>,</em> the first book of the Imager Portfolio, by L.E. Modesitt Jr, narrated by William Dufris</p>\n",
       "  </div>,\n",
       "  <div class=\"wx_audiobook\"><p><a href=\"http://www.audible.com/pd/ref=sr_1_1?asin=B002V5BB5U&amp;qid=1342921238&amp;sr=1-1\"><em>Howl’s Moving Castle</em></a>, by Diana Wynne Jones, narrated by Jenny Sterlin</p>\n",
       "  </div>,\n",
       "  <div class=\"wx_audiobook\"><p><a href=\"http://www.audible.com/pd/ref=sr_1_2?asin=B0030CE3F8&amp;qid=1343609712&amp;sr=1-2\"><em>Sucks to be Me</em></a>, by Kimberly Pauley, narrated by Nancy Wu</p>\n",
       "  </div>,\n",
       "  <div class=\"wx_audiobook\"><p><a href=\"http://www.audible.com/pd/ref=sr_1_1?asin=B0036JV56A&amp;qid=1344217887&amp;sr=1-1\"><em>Helliconia Spring</em></a> by Brian Aldiss, narrated by Christopher Slade</p>\n",
       "  </div>,\n",
       "  <div class=\"wx_audiobook\"><p><a href=\"http://www.audible.com/pd/ref=sr_1_1?asin=B0083INX2S&amp;qid=1344817377&amp;sr=1-1\"><em>All Men of Genius</em></a>, by Lev AC Rosen, narrated by Emily Gray</p>\n",
       "  </div>,\n",
       "  <div class=\"wx_audiobook\"><p>The Newsflesh trilogy by Mira Grant, wraps up with <a href=\"http://www.audible.com/pd/ref=sr_1_1?asin=B0083JNQC4&amp;qid=1344903487&amp;sr=1-1\"><em>Blackout</em></a>, and is a very satisfying example of a series that does something different with each book.</p>\n",
       "  </div>,\n",
       "  <div class=\"wx_audiobook\"><p><a href=\"http://www.audible.com/pd/ref=sr_1_1?asin=B00890C97U&amp;qid=1346029169&amp;sr=1-1\"><em>The Amazing Adventures of Kavalier and Clay</em></a>, by Michael Chabon, narrated by David Colacci</p>\n",
       "  </div>,\n",
       "  <div class=\"wx_audiobook\"><p><a href=\"http://www.audible.com/pd/ref=sr_1_1?asin=B007SP2LPM&amp;qid=1346030572&amp;sr=1-1\"><em>Redshirts: A Novel with Three Codas</em></a>, by John Scalzi, narrated by Wil Wheaton</p>\n",
       "  </div>,\n",
       "  <div class=\"wx_audiobook\"><p><a href=\"http://www.audible.com/pd/ref=sr_1_1?asin=B008B94DXM&amp;qid=1347240677&amp;sr=1-1\"><em>Existence</em></a>, by David Brin, narrated by Kevin T. Collins, Robin Miles, and L. J. Ganser.</p>\n",
       "  </div>,\n",
       "  <div class=\"wx_audiobook\"><p>Shanna plugged “One Hot Summer,” but the actual title is <em><a href=\"https://www.amazon.com/One-Long-Hot-Summer-ebook/dp/B00802JCIQ/ref=sr_1_1?ie=UTF8&amp;qid=1347832904&amp;sr=8-1&amp;keywords=one+hot+summer+shanna+germain\">One Long Hot Summer.</a> </em>It is not currently available Audible, but it’s available on Amazon at the link above. There are lots of OTHER things on Audible for you to listen to, including <a href=\"http://www.audible.com/search/ref=sr_ab_1_1_1?searchAuthor=Shanna+Germain&amp;qid=1347833341&amp;sr=1-1\">four titles featuring Shanna Germain</a>.</p>\n",
       "  </div>,\n",
       "  <div class=\"wx_audiobook\"><p><a href=\"http://www.audible.com/pd/ref=sr_1_1?asin=B002VA3FPY&amp;qid=1348443702&amp;sr=1-1\"><em>Grammar Girl’s Quick and Dirty Tips for Better Writing</em></a>, by Mignon Fogarty, narrated by the Grammar Girl herself</p>\n",
       "  </div>,\n",
       "  <div class=\"wx_audiobook\"><p><a href=\"http://www.audible.com/pd/ref=sr_1_1?asin=B003X3UKLK&amp;amp;qid=1349051914&amp;amp;sr=1-1\"><em>The House of Discarded Dreams</em></a>, by Ekaterina Sedia, narrated by Robin Miles</p>\n",
       "  </div>,\n",
       "  <div class=\"wx_audiobook\"><p><em>Chasing the Skip</em>, by Janci Patterson. It’s not currently available as of October 14th, but it’s coming real soon.</p>\n",
       "  </div>,\n",
       "  <div class=\"wx_audiobook\"><p><a href=\"http://www.audible.com/pd/ref=sr_1_1?asin=B008392DB4&amp;amp;qid=1350875918&amp;amp;sr=1-1\"><em>Railsea</em></a>, by China Mieville, narrated by Jonathan Crowley</p>\n",
       "  </div>,\n",
       "  <div class=\"wx_audiobook\"><p><a href=\"http://www.audible.com/pd/ref=sr_1_3?asin=B002VA9GLG&amp;amp;qid=1351469709&amp;amp;sr=1-3\"><em>Swords and Deviltry: The Adventures of Fafhrd and the Grey Mouser</em></a>, by Fritz Lieber, narrated by Jonathan Davis and Neil Gaiman</p>\n",
       "  </div>,\n",
       "  <div class=\"wx_audiobook\"><p><a href=\"http://www.audible.com/pd/ref=sr_1_1?asin=B004Q7BLRE&amp;amp;qid=1352102178&amp;amp;sr=1-1\"><em>Hellhole</em></a>, by Kevin J. Anderson and Brian Herbert</p>\n",
       "  </div>,\n",
       "  <div class=\"wx_audiobook\"><p><a href=\"http://www.audible.com/pd/ref=sr_1_1?asin=B002V01IHQ&amp;amp;qid=1352689456&amp;amp;sr=1-1\"><em>Caves of Steel</em></a>, by Isaac Asimov, narrated by William Dufris</p>\n",
       "  </div>,\n",
       "  <div class=\"wx_audiobook\"><p><a href=\"http://www.audible.com/pd/ref=sr_1_1?asin=B0076N61P2&amp;amp;qid=1353290873&amp;amp;sr=1-1\"><em>Control Point: Shadow Ops</em></a>, by Myke Cole, narrated by Corey Jackson</p>\n",
       "  </div>,\n",
       "  <div class=\"wx_audiobook\"><p><a href=\"http://www.audible.com/pd/ref=sr_1_1?asin=B003D8W5VS&amp;amp;qid=1353897053&amp;amp;sr=1-1\"><em>Foundation</em></a>, by Isaac Asimov, narrated by Scott Brick</p>\n",
       "  </div>,\n",
       "  <div class=\"wx_audiobook\"><p><a href=\"http://www.audible.com/pd/ref=sr_1_1?asin=B002V5BDEY&amp;amp;qid=1354502298&amp;amp;sr=1-1\"><em>The Green Glass Sea</em></a>, by Ellen Klages, narrated by Julie Dretzen</p>\n",
       "  </div>,\n",
       "  <div class=\"wx_audiobook\"><p><a href=\"http://www.audible.com/pd/ref=sr_1_1?asin=B004QPJZW4&amp;amp;qid=1355101736&amp;amp;sr=1-1\"><em>The Dragon Factory</em></a>, by Jonathan Mayberry, narrated by Ray Porter</p>\n",
       "  </div>,\n",
       "  <div class=\"wx_audiobook\"><p><em><a href=\"http://www.audible.com/pd/ref=sr_1_1?asin=B0049W155O&amp;amp;qid=1355331353&amp;amp;sr=1-1\">The Broken Kingdoms</a></em>, by N.K. Jemisin, narrated by Casaundra Freeman</p>\n",
       "  </div>,\n",
       "  <div class=\"wx_audiobook\"><p><a href=\"http://www.audible.com/pd/ref=sr_1_1?asin=B003XO3RKK&amp;amp;qid=1355709169&amp;amp;sr=1-1\"><em>Who Fears Death</em></a>, by Nnedi Okorafor, narrated by Anne Flosnik</p>\n",
       "  </div>,\n",
       "  <div class=\"wx_audiobook\"><p><a href=\"http://www.audible.com/pd/ref=sr_1_1?asin=B00892QB6S&amp;amp;qid=1356552895&amp;amp;sr=1-1\"><em>A Short Stay in Hell</em></a>, by Stephen L. Peck, narrated by Sergei Burbank</p>\n",
       "  </div>,\n",
       "  <div class=\"wx_audiobook\"><p><a href=\"http://www.audible.com/pd/ref=sr_1_1?asin=B002V8MKNO&amp;qid=1356915853&amp;sr=1-1\"><em>The Last Light of the Sun</em></a>, by Guy Gavriel Kay, narrated by Holter Graham</p>\n",
       "  </div>]]"
      ]
     },
     "execution_count": 8,
     "metadata": {},
     "output_type": "execute_result"
    }
   ],
   "source": [
    "bow_list[0:1]"
   ]
  },
  {
   "cell_type": "code",
   "execution_count": 9,
   "metadata": {},
   "outputs": [],
   "source": [
    "#create empty list for all text associated with the audiobook div\n",
    "#iterate through nested list using list comprehension\n",
    "\n",
    "alltext = [bow_element.find('p').text for bow_season in bow_list for bow_element in bow_season]"
   ]
  },
  {
   "cell_type": "code",
   "execution_count": 10,
   "metadata": {},
   "outputs": [
    {
     "data": {
      "text/plain": [
       "['Hard Magic, by Larry Correia, narrated by Bronson Pinchot',\n",
       " 'A Fire Upon the Deep, by Vernor Vinge, narrated by Peter Larkin',\n",
       " 'Speaker for the Dead, by Orson Scott Card, narrated by Stefan Rudniki. It’s a fantastic example of well-constructed flora and fauna, and it’s also a good example of how to make a sequel almost completely unlike the book that came before it.',\n",
       " 'Farenheit 451, by Ray Bradbury, narrated by the author',\n",
       " 'Terrorists in Love: The Real Stories of Islamic Radicals, by Ken Ballen, narrated by Peter Ganim']"
      ]
     },
     "execution_count": 10,
     "metadata": {},
     "output_type": "execute_result"
    }
   ],
   "source": [
    "#check alltext structure\n",
    "alltext[0:5]"
   ]
  },
  {
   "cell_type": "code",
   "execution_count": 11,
   "metadata": {},
   "outputs": [],
   "source": [
    "#create empty list for authors names to be pulled from alltext list\n",
    "authors = []\n",
    "\n",
    "#iterate through alltext list and use regular expressions to try to eliminate unneccesary text\n",
    "for index, line in enumerate(alltext):\n",
    "    line = line.replace(books[index], '')\n",
    "    if re.search(\"by (.*), narrated by\", line):\n",
    "        authors.append(re.search(\"by (.*), narrated by\", line).group(1))\n",
    "    else:\n",
    "        authors.append(line)"
   ]
  },
  {
   "cell_type": "code",
   "execution_count": 12,
   "metadata": {
    "scrolled": true
   },
   "outputs": [
    {
     "data": {
      "text/plain": [
       "True"
      ]
     },
     "execution_count": 12,
     "metadata": {},
     "output_type": "execute_result"
    }
   ],
   "source": [
    "#check that lengths of lists are the same\n",
    "len(authors) == len(books)"
   ]
  },
  {
   "cell_type": "code",
   "execution_count": 13,
   "metadata": {},
   "outputs": [],
   "source": [
    "#eliminate commas from the end of some book titles\n",
    "books = [book[:-1] if book.endswith(',') else book for book in books]"
   ]
  },
  {
   "cell_type": "code",
   "execution_count": 14,
   "metadata": {},
   "outputs": [
    {
     "data": {
      "text/plain": [
       "['Hard Magic',\n",
       " 'A Fire Upon the Deep',\n",
       " 'Speaker for the Dead',\n",
       " 'Farenheit 451',\n",
       " 'Terrorists in Love: The Real Stories of Islamic Radicals']"
      ]
     },
     "execution_count": 14,
     "metadata": {},
     "output_type": "execute_result"
    }
   ],
   "source": [
    "#check it worked\n",
    "books[0:5]"
   ]
  },
  {
   "cell_type": "code",
   "execution_count": 15,
   "metadata": {},
   "outputs": [],
   "source": [
    "clean_auth = []\n",
    "\n",
    "#eliminate commas, spaces, and 'by' from beginning of some author names\n",
    "for author in authors:\n",
    "    if 'by ' in author:\n",
    "        clean_auth.append(author[author.find('by ')+3:])\n",
    "    else:\n",
    "        clean_auth.append(author)"
   ]
  },
  {
   "cell_type": "code",
   "execution_count": 16,
   "metadata": {},
   "outputs": [
    {
     "data": {
      "text/plain": [
       "['Larry Correia',\n",
       " 'Vernor Vinge',\n",
       " 'Orson Scott Card',\n",
       " 'Ray Bradbury',\n",
       " 'Ken Ballen']"
      ]
     },
     "execution_count": 16,
     "metadata": {},
     "output_type": "execute_result"
    }
   ],
   "source": [
    "#check it worked\n",
    "clean_auth[0:5]"
   ]
  },
  {
   "cell_type": "code",
   "execution_count": 17,
   "metadata": {},
   "outputs": [
    {
     "data": {
      "text/html": [
       "<div>\n",
       "<style scoped>\n",
       "    .dataframe tbody tr th:only-of-type {\n",
       "        vertical-align: middle;\n",
       "    }\n",
       "\n",
       "    .dataframe tbody tr th {\n",
       "        vertical-align: top;\n",
       "    }\n",
       "\n",
       "    .dataframe thead th {\n",
       "        text-align: right;\n",
       "    }\n",
       "</style>\n",
       "<table border=\"1\" class=\"dataframe\">\n",
       "  <thead>\n",
       "    <tr style=\"text-align: right;\">\n",
       "      <th></th>\n",
       "      <th>Title</th>\n",
       "      <th>Author/Info</th>\n",
       "    </tr>\n",
       "  </thead>\n",
       "  <tbody>\n",
       "    <tr>\n",
       "      <th>0</th>\n",
       "      <td>Hard Magic</td>\n",
       "      <td>Larry Correia</td>\n",
       "    </tr>\n",
       "    <tr>\n",
       "      <th>1</th>\n",
       "      <td>A Fire Upon the Deep</td>\n",
       "      <td>Vernor Vinge</td>\n",
       "    </tr>\n",
       "    <tr>\n",
       "      <th>2</th>\n",
       "      <td>Speaker for the Dead</td>\n",
       "      <td>Orson Scott Card</td>\n",
       "    </tr>\n",
       "    <tr>\n",
       "      <th>3</th>\n",
       "      <td>Farenheit 451</td>\n",
       "      <td>Ray Bradbury</td>\n",
       "    </tr>\n",
       "    <tr>\n",
       "      <th>4</th>\n",
       "      <td>Terrorists in Love: The Real Stories of Islami...</td>\n",
       "      <td>Ken Ballen</td>\n",
       "    </tr>\n",
       "    <tr>\n",
       "      <th>...</th>\n",
       "      <td>...</td>\n",
       "      <td>...</td>\n",
       "    </tr>\n",
       "    <tr>\n",
       "      <th>308</th>\n",
       "      <td>The Butcher of Khardov</td>\n",
       "      <td>Dan Wells</td>\n",
       "    </tr>\n",
       "    <tr>\n",
       "      <th>309</th>\n",
       "      <td>Oathbringer</td>\n",
       "      <td>Brandon Sanderson</td>\n",
       "    </tr>\n",
       "    <tr>\n",
       "      <th>310</th>\n",
       "      <td>Always Coming Home</td>\n",
       "      <td>Ursula Le Guin</td>\n",
       "    </tr>\n",
       "    <tr>\n",
       "      <th>311</th>\n",
       "      <td>The Diabolic</td>\n",
       "      <td>SJ Kincaid</td>\n",
       "    </tr>\n",
       "    <tr>\n",
       "      <th>312</th>\n",
       "      <td>Ladycastle,</td>\n",
       "      <td>Delilah Dawson, Illustrated by Ashley A. Woods...</td>\n",
       "    </tr>\n",
       "  </tbody>\n",
       "</table>\n",
       "<p>313 rows × 2 columns</p>\n",
       "</div>"
      ],
      "text/plain": [
       "                                                 Title  \\\n",
       "0                                           Hard Magic   \n",
       "1                                 A Fire Upon the Deep   \n",
       "2                                 Speaker for the Dead   \n",
       "3                                        Farenheit 451   \n",
       "4    Terrorists in Love: The Real Stories of Islami...   \n",
       "..                                                 ...   \n",
       "308                             The Butcher of Khardov   \n",
       "309                                        Oathbringer   \n",
       "310                                 Always Coming Home   \n",
       "311                                       The Diabolic   \n",
       "312                                       Ladycastle,    \n",
       "\n",
       "                                           Author/Info  \n",
       "0                                        Larry Correia  \n",
       "1                                         Vernor Vinge  \n",
       "2                                     Orson Scott Card  \n",
       "3                                         Ray Bradbury  \n",
       "4                                           Ken Ballen  \n",
       "..                                                 ...  \n",
       "308                                          Dan Wells  \n",
       "309                                  Brandon Sanderson  \n",
       "310                                     Ursula Le Guin  \n",
       "311                                         SJ Kincaid  \n",
       "312  Delilah Dawson, Illustrated by Ashley A. Woods...  \n",
       "\n",
       "[313 rows x 2 columns]"
      ]
     },
     "execution_count": 17,
     "metadata": {},
     "output_type": "execute_result"
    }
   ],
   "source": [
    "finaldf = pd.DataFrame(list(zip(books, clean_auth)), columns =['Title', 'Author/Info'])\n",
    "finaldf"
   ]
  },
  {
   "cell_type": "code",
   "execution_count": 18,
   "metadata": {},
   "outputs": [],
   "source": [
    "#convert the two lists to a dictionary where the book titles are the keys and author text are the values\n",
    "final = {books[i]: clean_auth[i] for i in range(len(books))} "
   ]
  },
  {
   "cell_type": "code",
   "execution_count": 19,
   "metadata": {},
   "outputs": [],
   "source": [
    "#write to CSV\n",
    "with open('BOWfromdict.csv', 'w', newline=\"\") as csv_file:  \n",
    "    writer = csv.writer(csv_file)\n",
    "    for key, value in final.items():\n",
    "       writer.writerow([key, value])"
   ]
  },
  {
   "cell_type": "code",
   "execution_count": 20,
   "metadata": {},
   "outputs": [],
   "source": [
    "#or, write to CSV from the dataframe\n",
    "finaldf.to_csv('BOWfromcsv.csv')"
   ]
  }
 ],
 "metadata": {
  "kernelspec": {
   "display_name": "Python 3",
   "language": "python",
   "name": "python3"
  },
  "language_info": {
   "codemirror_mode": {
    "name": "ipython",
    "version": 3
   },
   "file_extension": ".py",
   "mimetype": "text/x-python",
   "name": "python",
   "nbconvert_exporter": "python",
   "pygments_lexer": "ipython3",
   "version": "3.7.6"
  }
 },
 "nbformat": 4,
 "nbformat_minor": 2
}
